{
  "nbformat": 4,
  "nbformat_minor": 0,
  "metadata": {
    "colab": {
      "name": "Rossmann Store Sales.ipynb",
      "provenance": [],
      "collapsed_sections": []
    },
    "kernelspec": {
      "name": "python3",
      "display_name": "Python 3"
    },
    "accelerator": "GPU"
  },
  "cells": [
    {
      "cell_type": "markdown",
      "metadata": {
        "id": "tMUnpNnN2Hp2",
        "colab_type": "text"
      },
      "source": [
        "#### **Initialization**"
      ]
    },
    {
      "cell_type": "markdown",
      "metadata": {
        "id": "0IYE7rM-28-W",
        "colab_type": "text"
      },
      "source": [
        "*Setting up Fastai Environment*"
      ]
    },
    {
      "cell_type": "code",
      "metadata": {
        "id": "Uohxj4EK1CIg",
        "colab_type": "code",
        "colab": {
          "base_uri": "https://localhost:8080/",
          "height": 51
        },
        "outputId": "510b061e-b60e-419a-e455-ae26df676df8"
      },
      "source": [
        "# !curl -s https://course.fast.ai/setup/colab | bash"
      ],
      "execution_count": 1,
      "outputs": [
        {
          "output_type": "stream",
          "text": [
            "Updating fastai...\n",
            "Done.\n"
          ],
          "name": "stdout"
        }
      ]
    },
    {
      "cell_type": "code",
      "metadata": {
        "id": "tlD2Cb0Y3H1P",
        "colab_type": "code",
        "colab": {}
      },
      "source": [
        "%reload_ext autoreload\n",
        "%autoreload 2\n",
        "%matplotlib inline"
      ],
      "execution_count": 2,
      "outputs": []
    },
    {
      "cell_type": "markdown",
      "metadata": {
        "id": "WS1EgxB-3Uyq",
        "colab_type": "text"
      },
      "source": [
        "**Downloading the Dependencies**"
      ]
    },
    {
      "cell_type": "code",
      "metadata": {
        "id": "jcilUf0y3SKE",
        "colab_type": "code",
        "colab": {}
      },
      "source": [
        "from fastai.basics import *"
      ],
      "execution_count": 3,
      "outputs": []
    },
    {
      "cell_type": "markdown",
      "metadata": {
        "id": "e7kr3JpR5e03",
        "colab_type": "text"
      },
      "source": [
        "#### **Data Preparation & Feature Engineering**"
      ]
    },
    {
      "cell_type": "code",
      "metadata": {
        "id": "9i58U6ur6YZv",
        "colab_type": "code",
        "colab": {
          "base_uri": "https://localhost:8080/",
          "height": 34
        },
        "outputId": "f501fb51-95c4-40bd-9e7e-0631e9c85f5d"
      },
      "source": [
        "path =  Config.data_path()\n",
        "path.mkdir(parents=True, exist_ok=True)\n",
        "path.ls()"
      ],
      "execution_count": 4,
      "outputs": [
        {
          "output_type": "execute_result",
          "data": {
            "text/plain": [
              "[PosixPath('/root/.fastai/data/rossmann.tgz')]"
            ]
          },
          "metadata": {
            "tags": []
          },
          "execution_count": 4
        }
      ]
    },
    {
      "cell_type": "code",
      "metadata": {
        "id": "sWch-Rjc-xwJ",
        "colab_type": "code",
        "colab": {
          "base_uri": "https://localhost:8080/",
          "height": 34
        },
        "outputId": "3d27e0ad-6a2d-468a-e386-f6414d5140ac"
      },
      "source": [
        "cd data"
      ],
      "execution_count": 5,
      "outputs": [
        {
          "output_type": "stream",
          "text": [
            "/root/.fastai/data\n"
          ],
          "name": "stdout"
        }
      ]
    },
    {
      "cell_type": "code",
      "metadata": {
        "id": "x30CX4p452bj",
        "colab_type": "code",
        "colab": {
          "base_uri": "https://localhost:8080/",
          "height": 153
        },
        "outputId": "10a7d21e-9330-46d6-c30b-9de153f9f94f"
      },
      "source": [
        "# !tar xvzf rossmann.tgz "
      ],
      "execution_count": 6,
      "outputs": [
        {
          "output_type": "stream",
          "text": [
            "googletrend.csv\n",
            "sample_submission.csv\n",
            "state_names.csv\n",
            "store.csv\n",
            "store_states.csv\n",
            "test.csv\n",
            "train.csv\n",
            "weather.csv\n"
          ],
          "name": "stdout"
        }
      ]
    },
    {
      "cell_type": "code",
      "metadata": {
        "id": "sT_R5zya83sf",
        "colab_type": "code",
        "colab": {
          "base_uri": "https://localhost:8080/",
          "height": 34
        },
        "outputId": "e9e24efc-0962-45da-d1f3-189c105871b7"
      },
      "source": [
        "table_names = ['train', 'store', 'store_states', 'state_names', 'googletrend', 'weather', 'test']\n",
        "tables = [pd.read_csv(path/f'{fname}.csv', low_memory=False) for fname in table_names]\n",
        "train, store, store_states, state_names, googletrend, weather, test = tables\n",
        "len(train), len(test)"
      ],
      "execution_count": 7,
      "outputs": [
        {
          "output_type": "execute_result",
          "data": {
            "text/plain": [
              "(1017209, 41088)"
            ]
          },
          "metadata": {
            "tags": []
          },
          "execution_count": 7
        }
      ]
    },
    {
      "cell_type": "code",
      "metadata": {
        "id": "XI01WMgsCW3Q",
        "colab_type": "code",
        "colab": {}
      },
      "source": [
        "train.StateHoliday = train.StateHoliday != '0'\n",
        "test.StateHoliday = test.StateHoliday != '0'"
      ],
      "execution_count": 8,
      "outputs": []
    },
    {
      "cell_type": "code",
      "metadata": {
        "id": "n3GrsmRGGoqn",
        "colab_type": "code",
        "colab": {}
      },
      "source": [
        "def join_df(left, right, left_on, right_on=None, suffix='_y'):\n",
        "  if right_on is None:\n",
        "    right_on = left_on\n",
        "  return left.merge(right, how=\"left\", left_on=left_on, right_on=right_on, suffixes=(\"\", suffix))"
      ],
      "execution_count": 9,
      "outputs": []
    },
    {
      "cell_type": "code",
      "metadata": {
        "id": "Tlm3ukvBHl27",
        "colab_type": "code",
        "colab": {}
      },
      "source": [
        "weather = join_df(weather, state_names, \"file\", \"StateName\")"
      ],
      "execution_count": 10,
      "outputs": []
    },
    {
      "cell_type": "code",
      "metadata": {
        "id": "O3emhM28H2tj",
        "colab_type": "code",
        "colab": {}
      },
      "source": [
        "googletrend[\"Date\"] = googletrend.week.str.split(' - ', expand=True)[0]\n",
        "googletrend[\"State\"] = googletrend.file.str.split('_', expand=True)[2]\n",
        "googletrend.loc[googletrend.State == 'NI', 'State'] = 'HB,NI'"
      ],
      "execution_count": 11,
      "outputs": []
    },
    {
      "cell_type": "markdown",
      "metadata": {
        "id": "UcitOPhmK3Wj",
        "colab_type": "text"
      },
      "source": [
        "*Important Function to consider in Feature Extraction while working with DateTime.*"
      ]
    },
    {
      "cell_type": "code",
      "metadata": {
        "id": "7d3kjF5_KKrr",
        "colab_type": "code",
        "colab": {}
      },
      "source": [
        "def add_datepart(df, fldname, drop=True, time=False):\n",
        "\n",
        "  fld = df[fldname]\n",
        "  fld_dtype = fld.dtype\n",
        "  if isinstance(fld_dtype, pd.core.dtypes.dtypes.DatetimeTZDtype):\n",
        "    fld_dtype = np.datetime64\n",
        "\n",
        "  if not np.issubdtype(fld_dtype, np.datetime64):\n",
        "    df[fldname] = fld = pd.to_datetime(fld, infer_datetime_format=True)\n",
        "  targ_pre = re.sub('[Dd]ate$', '', fldname)\n",
        "  attr = ['Year', 'Month', 'Week', 'Day', 'Dayofweek', 'Dayofyear',\n",
        "          'Is_month_end', 'Is_month_start', 'Is_quarter_end', 'Is_quarter_start', 'Is_year_end', 'Is_year_start']\n",
        "  if time: attr = attr + ['Hour', 'Minute', 'Second']\n",
        "  for n in attr: df[targ_pre + n] = getattr(fld.dt, n.lower())\n",
        "  df[targ_pre + 'Elapsed'] = fld.astype(np.int64) // 10 ** 9\n",
        "  if drop: df.drop(fldname, axis=1, inplace=True)"
      ],
      "execution_count": 12,
      "outputs": []
    },
    {
      "cell_type": "code",
      "metadata": {
        "id": "FW0Ed4ZlM-fv",
        "colab_type": "code",
        "colab": {}
      },
      "source": [
        "add_datepart(weather, \"Date\", drop=False)\n",
        "add_datepart(googletrend, \"Date\", drop=False)\n",
        "add_datepart(train, \"Date\", drop=False)\n",
        "add_datepart(test, \"Date\", drop=False)"
      ],
      "execution_count": 13,
      "outputs": []
    },
    {
      "cell_type": "code",
      "metadata": {
        "id": "bhJcyMagNhkA",
        "colab_type": "code",
        "colab": {}
      },
      "source": [
        "trend_de = googletrend[googletrend.file == \"Rossmann_DE\"]"
      ],
      "execution_count": 14,
      "outputs": []
    },
    {
      "cell_type": "code",
      "metadata": {
        "id": "qzG4dqP1Oont",
        "colab_type": "code",
        "colab": {
          "base_uri": "https://localhost:8080/",
          "height": 34
        },
        "outputId": "636ad47f-d6f5-455a-d7da-4551dd7b4e25"
      },
      "source": [
        "store = join_df(store, store_states, \"Store\")\n",
        "len(store[store.State.isnull()])"
      ],
      "execution_count": 15,
      "outputs": [
        {
          "output_type": "execute_result",
          "data": {
            "text/plain": [
              "0"
            ]
          },
          "metadata": {
            "tags": []
          },
          "execution_count": 15
        }
      ]
    },
    {
      "cell_type": "code",
      "metadata": {
        "id": "YAYSkFc61y--",
        "colab_type": "code",
        "colab": {
          "base_uri": "https://localhost:8080/",
          "height": 34
        },
        "outputId": "259a5c0d-da0f-49c6-aaea-67a3dce88cb7"
      },
      "source": [
        "joined = join_df(train, store, \"Store\")\n",
        "joined_test = join_df(test, store, \"Store\")\n",
        "len(joined[joined.StoreType.isnull()]), len(joined_test[joined_test.StoreType.isnull()])"
      ],
      "execution_count": 16,
      "outputs": [
        {
          "output_type": "execute_result",
          "data": {
            "text/plain": [
              "(0, 0)"
            ]
          },
          "metadata": {
            "tags": []
          },
          "execution_count": 16
        }
      ]
    },
    {
      "cell_type": "code",
      "metadata": {
        "id": "p-pFKCY17qyE",
        "colab_type": "code",
        "colab": {
          "base_uri": "https://localhost:8080/",
          "height": 34
        },
        "outputId": "d9343327-d7b4-49d6-bdf1-5b9fabda404c"
      },
      "source": [
        "joined = join_df(joined, googletrend, [\"State\", \"Year\", \"Week\"])\n",
        "joined_test = join_df(joined_test, googletrend, [\"State\", \"Year\", \"Week\"])\n",
        "len(joined[joined.trend.isnull()]), len(joined_test[joined_test.trend.isnull()])"
      ],
      "execution_count": 17,
      "outputs": [
        {
          "output_type": "execute_result",
          "data": {
            "text/plain": [
              "(0, 0)"
            ]
          },
          "metadata": {
            "tags": []
          },
          "execution_count": 17
        }
      ]
    },
    {
      "cell_type": "code",
      "metadata": {
        "id": "Wvg0gbGVNjmq",
        "colab_type": "code",
        "colab": {
          "base_uri": "https://localhost:8080/",
          "height": 34
        },
        "outputId": "6f251cb8-1e41-46e8-f20f-1bf449404854"
      },
      "source": [
        "joined = joined.merge(trend_de, \"left\", [\"Year\", \"Week\"], suffixes=('', '_DE'))\n",
        "joined_test = joined_test.merge(trend_de, \"left\", [\"Year\", \"Week\"], suffixes=('', '_DE'))\n",
        "len(joined[joined.trend_DE.isnull()]), len(joined_test[joined_test.trend_DE.isnull()])"
      ],
      "execution_count": 18,
      "outputs": [
        {
          "output_type": "execute_result",
          "data": {
            "text/plain": [
              "(0, 0)"
            ]
          },
          "metadata": {
            "tags": []
          },
          "execution_count": 18
        }
      ]
    },
    {
      "cell_type": "code",
      "metadata": {
        "id": "doQ2VDYOP5Dg",
        "colab_type": "code",
        "colab": {
          "base_uri": "https://localhost:8080/",
          "height": 34
        },
        "outputId": "8a2f122c-13ba-48e3-b758-42259b2649f1"
      },
      "source": [
        "joined = join_df(joined, weather, [\"State\", \"Date\"])\n",
        "joined_test = join_df(joined_test, weather, [\"State\", \"Date\"])\n",
        "len(joined[joined.Mean_TemperatureC.isnull()]), len(joined_test[joined_test.Mean_TemperatureC.isnull()])"
      ],
      "execution_count": 19,
      "outputs": [
        {
          "output_type": "execute_result",
          "data": {
            "text/plain": [
              "(0, 0)"
            ]
          },
          "metadata": {
            "tags": []
          },
          "execution_count": 19
        }
      ]
    },
    {
      "cell_type": "code",
      "metadata": {
        "id": "THlGjrGlQtFd",
        "colab_type": "code",
        "colab": {}
      },
      "source": [
        "for df in (joined, joined_test):\n",
        "  for c in df.columns:\n",
        "    if c.endswith('_y'):\n",
        "      if c in df.columns:\n",
        "        df.drop(c, inplace=True, axis=1)"
      ],
      "execution_count": 21,
      "outputs": []
    },
    {
      "cell_type": "code",
      "metadata": {
        "id": "dg0GQxNYRLAH",
        "colab_type": "code",
        "colab": {}
      },
      "source": [
        "for df in (joined, joined_test):\n",
        "  df[\"CompetitionOpenSinceYear\"] = df.CompetitionOpenSinceYear.fillna(1900).astype(np.int32)\n",
        "  df[\"CompetitionOpenSinceMonth\"] = df.CompetitionOpenSinceMonth.fillna(1).astype(np.int32)\n",
        "  df[\"Promo2SinceYear\"] = df.Promo2SinceYear.fillna(1900).astype(np.int32)\n",
        "  df[\"Promo2SinceWeek\"] = df.Promo2SinceWeek.fillna(1).astype(np.int32)"
      ],
      "execution_count": 22,
      "outputs": []
    },
    {
      "cell_type": "code",
      "metadata": {
        "id": "QGk5LxNeS6-z",
        "colab_type": "code",
        "colab": {}
      },
      "source": [
        "for df in (joined, joined_test):\n",
        "  df[\"CompetitionOpenSince\"] = pd.to_datetime(dict(year=df.CompetitionOpenSinceYear,\n",
        "                                                   month=df.CompetitionOpenSinceMonth,\n",
        "                                                   day=15))\n",
        "  \n",
        "  df[\"CompetitionDaysOpen\"] = df.Date.subtract(df.CompetitionOpenSince).dt.days"
      ],
      "execution_count": 23,
      "outputs": []
    },
    {
      "cell_type": "markdown",
      "metadata": {
        "id": "6HNfH04AUUpD",
        "colab_type": "text"
      },
      "source": [
        "*Replacing all the erroneous Data.*"
      ]
    },
    {
      "cell_type": "code",
      "metadata": {
        "id": "ieMSu1AwUJwR",
        "colab_type": "code",
        "colab": {}
      },
      "source": [
        "for df in (joined, joined_test):\n",
        "  df.loc[df.CompetitionDaysOpen < 0, \"CompetitionDaysOpen\"] = 0\n",
        "  df.loc[df.CompetitionOpenSinceYear < 1990, \"CompetitionOpenSinceYear\"] = 0"
      ],
      "execution_count": 24,
      "outputs": []
    },
    {
      "cell_type": "code",
      "metadata": {
        "id": "gdKRFQ9vVBxg",
        "colab_type": "code",
        "colab": {
          "base_uri": "https://localhost:8080/",
          "height": 34
        },
        "outputId": "7ea017bc-10bd-499e-a0d4-a81deb5d1762"
      },
      "source": [
        "for df in (joined, joined_test):\n",
        "  df[\"CompetitionMonthsOpen\"] = df[\"CompetitionDaysOpen\"] // 30\n",
        "  df.loc[df.CompetitionMonthsOpen > 24, \"CompetitionMonthsOpen\"] = 24\n",
        "\n",
        "joined.CompetitionMonthsOpen.unique() "
      ],
      "execution_count": 25,
      "outputs": [
        {
          "output_type": "execute_result",
          "data": {
            "text/plain": [
              "array([24,  3, 19,  9, 16, 17,  7, 15, 22, 11, 13,  2, 23,  0, 12,  4, 10,  1, 14, 20,  8, 18,  6, 21,  5])"
            ]
          },
          "metadata": {
            "tags": []
          },
          "execution_count": 25
        }
      ]
    },
    {
      "cell_type": "code",
      "metadata": {
        "id": "FwIhDiIaXuhW",
        "colab_type": "code",
        "colab": {
          "base_uri": "https://localhost:8080/",
          "height": 85
        },
        "outputId": "40b92288-ac90-4f74-9783-4f73b7202438"
      },
      "source": [
        "# !pip install isoweek"
      ],
      "execution_count": 27,
      "outputs": [
        {
          "output_type": "stream",
          "text": [
            "Collecting isoweek\n",
            "  Downloading https://files.pythonhosted.org/packages/c2/d4/fe7e2637975c476734fcbf53776e650a29680194eb0dd21dbdc020ca92de/isoweek-1.3.3-py2.py3-none-any.whl\n",
            "Installing collected packages: isoweek\n",
            "Successfully installed isoweek-1.3.3\n"
          ],
          "name": "stdout"
        }
      ]
    },
    {
      "cell_type": "code",
      "metadata": {
        "id": "K7zvZtqNWKYj",
        "colab_type": "code",
        "colab": {}
      },
      "source": [
        "from isoweek import Week\n",
        "for df in (joined, joined_test):\n",
        "  df[\"Promo2Since\"] = pd.to_datetime(df.apply(lambda x: Week(x.Promo2SinceYear, x.Promo2SinceWeek).monday(), axis=1))\n",
        "  df[\"Promo2Days\"] = df.Date.subtract(df.Promo2Since).dt.days"
      ],
      "execution_count": 31,
      "outputs": []
    },
    {
      "cell_type": "code",
      "metadata": {
        "id": "_pIekqjVYZcJ",
        "colab_type": "code",
        "colab": {}
      },
      "source": [
        "for df in (joined, joined_test):\n",
        "  df.loc[df.Promo2Days < 0, \"Promo2Days\"] = 0\n",
        "  df.loc[df.Promo2SinceYear < 1990, \"Promo2Days\"] = 0\n",
        "  df[\"Promo2Weeks\"] = df[\"Promo2Days\"]//7\n",
        "  df.loc[df.Promo2Weeks < 0, \"Promo2Weeks\"] = 0\n",
        "  df.loc[df.Promo2Weeks > 25, \"Promo2Weeks\"] = 25\n",
        "  df.Promo2Weeks.unique()"
      ],
      "execution_count": 36,
      "outputs": []
    },
    {
      "cell_type": "code",
      "metadata": {
        "id": "jCcK8jOFcVCu",
        "colab_type": "code",
        "colab": {}
      },
      "source": [
        "joined.to_pickle(path/'joined')\n",
        "joined_test.to_pickle(path/'joined_test')"
      ],
      "execution_count": 37,
      "outputs": []
    },
    {
      "cell_type": "markdown",
      "metadata": {
        "id": "F5tCWVpmflIm",
        "colab_type": "text"
      },
      "source": [
        "**Durations.**"
      ]
    },
    {
      "cell_type": "code",
      "metadata": {
        "id": "MGehO6xFdUzv",
        "colab_type": "code",
        "colab": {}
      },
      "source": [
        "def get_elapsed(fld, pre):\n",
        "\n",
        "  day1 = np.timedelta64(1, 'D')\n",
        "  last_date = np.datetime64()\n",
        "  last_store = 0\n",
        "  res = []\n",
        "\n",
        "  for s,v,d in zip(df.Store.values,df[fld].values, df.Date.values):\n",
        "    if s != last_store:\n",
        "      last_date = np.datetime64()\n",
        "      last_store = s\n",
        "    if v: last_date = d\n",
        "    res.append(((d-last_date).astype('timedelta64[D]') / day1))\n",
        "  df[pre+fld] = res"
      ],
      "execution_count": 39,
      "outputs": []
    },
    {
      "cell_type": "code",
      "metadata": {
        "id": "C4oiiffOf2tf",
        "colab_type": "code",
        "colab": {}
      },
      "source": [
        "columns = [\"Date\", \"Store\", \"Promo\", \"StateHoliday\", \"SchoolHoliday\"]"
      ],
      "execution_count": 40,
      "outputs": []
    },
    {
      "cell_type": "code",
      "metadata": {
        "id": "r_k_FnWDgnLd",
        "colab_type": "code",
        "colab": {}
      },
      "source": [
        "df = train[columns].append(test[columns])"
      ],
      "execution_count": 41,
      "outputs": []
    },
    {
      "cell_type": "code",
      "metadata": {
        "id": "Jy3Dn6LDgvdf",
        "colab_type": "code",
        "colab": {}
      },
      "source": [
        "fld = \"SchoolHoliday\"\n",
        "df = df.sort_values([\"Store\", \"Date\"])\n",
        "get_elapsed(fld, \"After\")\n",
        "df = df.sort_values([\"Store\", \"Date\"], ascending=[True, False])\n",
        "get_elapsed(fld, \"Before\")"
      ],
      "execution_count": 44,
      "outputs": []
    },
    {
      "cell_type": "code",
      "metadata": {
        "id": "HgjgwZBIlhEp",
        "colab_type": "code",
        "colab": {}
      },
      "source": [
        "fld = \"StateHoliday\"\n",
        "df = df.sort_values([\"Store\", \"Date\"])\n",
        "get_elapsed(fld, \"After\")\n",
        "df = df.sort_values([\"Store\", \"Date\"], ascending=[True, False])\n",
        "get_elapsed(fld, \"Before\")"
      ],
      "execution_count": 45,
      "outputs": []
    },
    {
      "cell_type": "code",
      "metadata": {
        "id": "2q2typSqmDNU",
        "colab_type": "code",
        "colab": {}
      },
      "source": [
        "fld = \"Promo\"\n",
        "df = df.sort_values([\"Store\", \"Date\"])\n",
        "get_elapsed(fld, \"After\")\n",
        "df = df.sort_values([\"Store\", \"Date\"], ascending=[True, False])\n",
        "get_elapsed(fld, \"Before\")"
      ],
      "execution_count": 46,
      "outputs": []
    },
    {
      "cell_type": "code",
      "metadata": {
        "id": "c9BYUaFZmHcC",
        "colab_type": "code",
        "colab": {}
      },
      "source": [
        "df = df.set_index(\"Date\")"
      ],
      "execution_count": 47,
      "outputs": []
    },
    {
      "cell_type": "code",
      "metadata": {
        "id": "X2OwNvH5mPfz",
        "colab_type": "code",
        "colab": {}
      },
      "source": [
        "columns = ['StateHoliday', \"SchoolHoliday\", \"Promo\"]"
      ],
      "execution_count": 48,
      "outputs": []
    },
    {
      "cell_type": "code",
      "metadata": {
        "id": "eKeWPCyxmalT",
        "colab_type": "code",
        "colab": {}
      },
      "source": [
        "for o in ['Before', 'After']:\n",
        "    for p in columns:\n",
        "        a = o+p\n",
        "        df[a] = df[a].fillna(0).astype(int)"
      ],
      "execution_count": 49,
      "outputs": []
    },
    {
      "cell_type": "code",
      "metadata": {
        "id": "dou55To_miF1",
        "colab_type": "code",
        "colab": {}
      },
      "source": [
        "bwd = df[[\"Store\"] + columns].sort_index().groupby(\"Store\").rolling(7, min_periods=1).sum()"
      ],
      "execution_count": 50,
      "outputs": []
    },
    {
      "cell_type": "code",
      "metadata": {
        "id": "Kd4q0q8FoG2M",
        "colab_type": "code",
        "colab": {}
      },
      "source": [
        "pwd = df[[\"Store\"] + columns].sort_index(ascending=False).groupby(\"Store\").rolling(7, min_periods=1).sum()"
      ],
      "execution_count": 51,
      "outputs": []
    },
    {
      "cell_type": "code",
      "metadata": {
        "id": "6nCpAHlooSs7",
        "colab_type": "code",
        "colab": {}
      },
      "source": [
        "bwd.drop(\"Store\", 1, inplace=True)\n",
        "bwd.reset_index(inplace=True)"
      ],
      "execution_count": 52,
      "outputs": []
    },
    {
      "cell_type": "code",
      "metadata": {
        "id": "NbupT3VHojbw",
        "colab_type": "code",
        "colab": {}
      },
      "source": [
        "pwd.drop(\"Store\", 1, inplace=True)\n",
        "pwd.reset_index(inplace=True)"
      ],
      "execution_count": 53,
      "outputs": []
    },
    {
      "cell_type": "code",
      "metadata": {
        "id": "AzNJ8qBNotD5",
        "colab_type": "code",
        "colab": {}
      },
      "source": [
        "df.reset_index(inplace=True)"
      ],
      "execution_count": 54,
      "outputs": []
    },
    {
      "cell_type": "markdown",
      "metadata": {
        "id": "N3LVbvjIo0te",
        "colab_type": "text"
      },
      "source": [
        "**Merging all into DataFrame**"
      ]
    },
    {
      "cell_type": "code",
      "metadata": {
        "id": "uGRQvGe-oxL0",
        "colab_type": "code",
        "colab": {}
      },
      "source": [
        "df = df.merge(bwd, \"left\", [\"Date\", \"Store\"], suffixes=[\"\", '_bw'])\n",
        "df = df.merge(pwd, \"left\", [\"Date\", \"Store\"], suffixes=[\"\", '_fw'])"
      ],
      "execution_count": 55,
      "outputs": []
    },
    {
      "cell_type": "code",
      "metadata": {
        "id": "bEWCqWDTpb24",
        "colab_type": "code",
        "colab": {}
      },
      "source": [
        "df.drop(columns, 1, inplace=True)"
      ],
      "execution_count": 56,
      "outputs": []
    },
    {
      "cell_type": "code",
      "metadata": {
        "id": "48RBfkqdpiBn",
        "colab_type": "code",
        "colab": {
          "base_uri": "https://localhost:8080/",
          "height": 309
        },
        "outputId": "ca4946be-576b-4ed3-db3f-74cff1a97cff"
      },
      "source": [
        "df.head()"
      ],
      "execution_count": 57,
      "outputs": [
        {
          "output_type": "execute_result",
          "data": {
            "text/html": [
              "<div>\n",
              "<style scoped>\n",
              "    .dataframe tbody tr th:only-of-type {\n",
              "        vertical-align: middle;\n",
              "    }\n",
              "\n",
              "    .dataframe tbody tr th {\n",
              "        vertical-align: top;\n",
              "    }\n",
              "\n",
              "    .dataframe thead th {\n",
              "        text-align: right;\n",
              "    }\n",
              "</style>\n",
              "<table border=\"1\" class=\"dataframe\">\n",
              "  <thead>\n",
              "    <tr style=\"text-align: right;\">\n",
              "      <th></th>\n",
              "      <th>Date</th>\n",
              "      <th>Store</th>\n",
              "      <th>AfterSchoolHoliday</th>\n",
              "      <th>BeforeSchoolHoliday</th>\n",
              "      <th>AfterStateHoliday</th>\n",
              "      <th>BeforeStateHoliday</th>\n",
              "      <th>AfterPromo</th>\n",
              "      <th>BeforePromo</th>\n",
              "      <th>StateHoliday_bw</th>\n",
              "      <th>SchoolHoliday_bw</th>\n",
              "      <th>Promo_bw</th>\n",
              "      <th>StateHoliday_fw</th>\n",
              "      <th>SchoolHoliday_fw</th>\n",
              "      <th>Promo_fw</th>\n",
              "    </tr>\n",
              "  </thead>\n",
              "  <tbody>\n",
              "    <tr>\n",
              "      <th>0</th>\n",
              "      <td>2015-09-17</td>\n",
              "      <td>1</td>\n",
              "      <td>13</td>\n",
              "      <td>0</td>\n",
              "      <td>105</td>\n",
              "      <td>0</td>\n",
              "      <td>0</td>\n",
              "      <td>0</td>\n",
              "      <td>0.0</td>\n",
              "      <td>0.0</td>\n",
              "      <td>4.0</td>\n",
              "      <td>0.0</td>\n",
              "      <td>0.0</td>\n",
              "      <td>1.0</td>\n",
              "    </tr>\n",
              "    <tr>\n",
              "      <th>1</th>\n",
              "      <td>2015-09-16</td>\n",
              "      <td>1</td>\n",
              "      <td>12</td>\n",
              "      <td>0</td>\n",
              "      <td>104</td>\n",
              "      <td>0</td>\n",
              "      <td>0</td>\n",
              "      <td>0</td>\n",
              "      <td>0.0</td>\n",
              "      <td>0.0</td>\n",
              "      <td>3.0</td>\n",
              "      <td>0.0</td>\n",
              "      <td>0.0</td>\n",
              "      <td>2.0</td>\n",
              "    </tr>\n",
              "    <tr>\n",
              "      <th>2</th>\n",
              "      <td>2015-09-15</td>\n",
              "      <td>1</td>\n",
              "      <td>11</td>\n",
              "      <td>0</td>\n",
              "      <td>103</td>\n",
              "      <td>0</td>\n",
              "      <td>0</td>\n",
              "      <td>0</td>\n",
              "      <td>0.0</td>\n",
              "      <td>0.0</td>\n",
              "      <td>2.0</td>\n",
              "      <td>0.0</td>\n",
              "      <td>0.0</td>\n",
              "      <td>3.0</td>\n",
              "    </tr>\n",
              "    <tr>\n",
              "      <th>3</th>\n",
              "      <td>2015-09-14</td>\n",
              "      <td>1</td>\n",
              "      <td>10</td>\n",
              "      <td>0</td>\n",
              "      <td>102</td>\n",
              "      <td>0</td>\n",
              "      <td>0</td>\n",
              "      <td>0</td>\n",
              "      <td>0.0</td>\n",
              "      <td>0.0</td>\n",
              "      <td>1.0</td>\n",
              "      <td>0.0</td>\n",
              "      <td>0.0</td>\n",
              "      <td>4.0</td>\n",
              "    </tr>\n",
              "    <tr>\n",
              "      <th>4</th>\n",
              "      <td>2015-09-13</td>\n",
              "      <td>1</td>\n",
              "      <td>9</td>\n",
              "      <td>0</td>\n",
              "      <td>101</td>\n",
              "      <td>0</td>\n",
              "      <td>9</td>\n",
              "      <td>-1</td>\n",
              "      <td>0.0</td>\n",
              "      <td>0.0</td>\n",
              "      <td>0.0</td>\n",
              "      <td>0.0</td>\n",
              "      <td>0.0</td>\n",
              "      <td>4.0</td>\n",
              "    </tr>\n",
              "  </tbody>\n",
              "</table>\n",
              "</div>"
            ],
            "text/plain": [
              "        Date  Store  ...  SchoolHoliday_fw  Promo_fw\n",
              "0 2015-09-17      1  ...               0.0       1.0\n",
              "1 2015-09-16      1  ...               0.0       2.0\n",
              "2 2015-09-15      1  ...               0.0       3.0\n",
              "3 2015-09-14      1  ...               0.0       4.0\n",
              "4 2015-09-13      1  ...               0.0       4.0\n",
              "\n",
              "[5 rows x 14 columns]"
            ]
          },
          "metadata": {
            "tags": []
          },
          "execution_count": 57
        }
      ]
    },
    {
      "cell_type": "code",
      "metadata": {
        "id": "ubYIdc2Mpj3T",
        "colab_type": "code",
        "colab": {}
      },
      "source": [
        "df.to_pickle(path/\"df\")"
      ],
      "execution_count": 58,
      "outputs": []
    },
    {
      "cell_type": "code",
      "metadata": {
        "id": "sJKA4n8EptPt",
        "colab_type": "code",
        "colab": {}
      },
      "source": [
        "df[\"Date\"] = pd.to_datetime(df.Date)"
      ],
      "execution_count": 59,
      "outputs": []
    },
    {
      "cell_type": "code",
      "metadata": {
        "id": "MEUBA5M_p1p6",
        "colab_type": "code",
        "colab": {
          "base_uri": "https://localhost:8080/",
          "height": 102
        },
        "outputId": "6d4f9d3f-d6ca-497d-fa0c-9ad26d24ebf9"
      },
      "source": [
        "df.columns"
      ],
      "execution_count": 60,
      "outputs": [
        {
          "output_type": "execute_result",
          "data": {
            "text/plain": [
              "Index(['Date', 'Store', 'AfterSchoolHoliday', 'BeforeSchoolHoliday',\n",
              "       'AfterStateHoliday', 'BeforeStateHoliday', 'AfterPromo', 'BeforePromo',\n",
              "       'StateHoliday_bw', 'SchoolHoliday_bw', 'Promo_bw', 'StateHoliday_fw',\n",
              "       'SchoolHoliday_fw', 'Promo_fw'],\n",
              "      dtype='object')"
            ]
          },
          "metadata": {
            "tags": []
          },
          "execution_count": 60
        }
      ]
    },
    {
      "cell_type": "code",
      "metadata": {
        "id": "F1W1BGfLp3rw",
        "colab_type": "code",
        "colab": {}
      },
      "source": [
        "joined = pd.read_pickle(path/\"joined\")\n",
        "joined_test = pd.read_pickle(path/f'joined_test')"
      ],
      "execution_count": 61,
      "outputs": []
    },
    {
      "cell_type": "code",
      "metadata": {
        "id": "str9tfZqqSiO",
        "colab_type": "code",
        "colab": {}
      },
      "source": [
        "joined = join_df(joined, df, [\"Store\", \"Date\"])"
      ],
      "execution_count": 62,
      "outputs": []
    },
    {
      "cell_type": "code",
      "metadata": {
        "id": "3rlQgHq-qc7W",
        "colab_type": "code",
        "colab": {}
      },
      "source": [
        "joined_test = join_df(joined_test, df, [\"Store\", \"Date\"])"
      ],
      "execution_count": 63,
      "outputs": []
    },
    {
      "cell_type": "code",
      "metadata": {
        "id": "jM2a71Fyqj9P",
        "colab_type": "code",
        "colab": {}
      },
      "source": [
        "joined = joined[joined.Sales != 0]"
      ],
      "execution_count": 64,
      "outputs": []
    },
    {
      "cell_type": "markdown",
      "metadata": {
        "id": "7FcLGho6qz9Z",
        "colab_type": "text"
      },
      "source": [
        "**Backing Up Together**"
      ]
    },
    {
      "cell_type": "code",
      "metadata": {
        "id": "fz183E7Xqv85",
        "colab_type": "code",
        "colab": {}
      },
      "source": [
        "joined.reset_index(inplace=True)\n",
        "joined_test.reset_index(inplace=True)"
      ],
      "execution_count": 65,
      "outputs": []
    },
    {
      "cell_type": "code",
      "metadata": {
        "id": "uZf_v4B1rD8H",
        "colab_type": "code",
        "colab": {}
      },
      "source": [
        "joined.to_pickle(path/\"train_clean\")\n",
        "joined_test.to_pickle(path/\"test_clean\")"
      ],
      "execution_count": 67,
      "outputs": []
    }
  ]
}